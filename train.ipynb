{
 "cells": [
  {
   "cell_type": "code",
   "execution_count": 8,
   "id": "e8aa54aa-88b9-4d90-a4bd-654e572d3a9c",
   "metadata": {},
   "outputs": [
    {
     "name": "stdout",
     "output_type": "stream",
     "text": [
      "Defaulting to user installation because normal site-packages is not writeable\n",
      "Collecting nbimporter\n",
      "  Downloading nbimporter-0.3.4-py3-none-any.whl (4.9 kB)\n",
      "Installing collected packages: nbimporter\n",
      "Successfully installed nbimporter-0.3.4\n"
     ]
    }
   ],
   "source": [
    "!pip install nbimporter"
   ]
  },
  {
   "cell_type": "code",
   "execution_count": 2,
   "id": "bfc82d21-5671-4de8-82f9-93b93a8a299c",
   "metadata": {},
   "outputs": [],
   "source": [
    "import nbimporter\n",
    "from dataset import load_datasets \n",
    "from model import get_model  "
   ]
  },
  {
   "cell_type": "code",
   "execution_count": 7,
   "id": "ee94892c-b912-4a91-9558-4ee516d37759",
   "metadata": {},
   "outputs": [],
   "source": [
    "import torch\n",
    "import torch.optim as optim\n",
    "import torch\n",
    "import torch.nn as nn\n",
    "\n",
    "device = torch.device(\"cuda\" if torch.cuda.is_available() else \"cpu\")\n",
    "train_loader, val_loader, test_loader = load_datasets(\"pedestrian_risk_analysis.csv\")\n",
    "model = get_model(device)"
   ]
  },
  {
   "cell_type": "code",
   "execution_count": null,
   "id": "c54dbc4a-b24b-4a57-bdf1-6dafa2f6831a",
   "metadata": {},
   "outputs": [
    {
     "name": "stdout",
     "output_type": "stream",
     "text": [
      "Epoch [1/10], Loss: 188.6011, Accuracy: 0.6856\n",
      "Epoch [1/10] - Loss: 0.0219 Val Loss: 0.5502\n",
      "Epoch [2/10], Loss: 115.2547, Accuracy: 0.8235\n",
      "Epoch [2/10] - Loss: 0.0134 Val Loss: 0.4243\n",
      "Epoch [3/10], Loss: 89.6474, Accuracy: 0.8681\n",
      "Epoch [3/10] - Loss: 0.0104 Val Loss: 0.3496\n",
      "Epoch [4/10], Loss: 73.3986, Accuracy: 0.8907\n",
      "Epoch [4/10] - Loss: 0.0085 Val Loss: 0.3107\n",
      "Epoch [5/10], Loss: 63.2544, Accuracy: 0.9034\n",
      "Epoch [5/10] - Loss: 0.0073 Val Loss: 0.2736\n",
      "Epoch [6/10], Loss: 54.8403, Accuracy: 0.9136\n",
      "Epoch [6/10] - Loss: 0.0064 Val Loss: 0.2651\n",
      "Epoch [7/10], Loss: 49.8203, Accuracy: 0.9270\n",
      "Epoch [7/10] - Loss: 0.0058 Val Loss: 0.2420\n",
      "Epoch [8/10], Loss: 45.6762, Accuracy: 0.9329\n",
      "Epoch [8/10] - Loss: 0.0053 Val Loss: 0.2983\n",
      "Epoch [9/10], Loss: 41.9194, Accuracy: 0.9360\n"
     ]
    }
   ],
   "source": [
    "import torch\n",
    "import torch.optim as optim\n",
    "device = torch.device(\"cuda\" if torch.cuda.is_available() else \"cpu\")\n",
    "loss_fn = nn.CrossEntropyLoss()\n",
    "optimizer = optim.Adam(model.parameters(), lr=0.001)\n",
    "_loss_plot_test=[]\n",
    "\n",
    "num_epochs = 10\n",
    "for epoch in range(num_epochs):\n",
    "    model.train()\n",
    "    total_loss, correct = 0, 0\n",
    "\n",
    "    for images, labels in train_loader:\n",
    "        images, labels = images.to(device), labels.to(device)\n",
    "\n",
    "        optimizer.zero_grad()\n",
    "        outputs = model(images)\n",
    "        loss = loss_fn(outputs, labels)\n",
    "        loss.backward()\n",
    "        optimizer.step()\n",
    "\n",
    "        total_loss += loss.item()\n",
    "        correct += (outputs.argmax(1) == labels).sum().item()\n",
    "    \n",
    "    avg_loss = total_loss/ len(train_loader.dataset)\n",
    "    train_accuracy = correct / len(train_loader.dataset)\n",
    "    print(f\"Epoch [{epoch+1}/{num_epochs}], Loss: {total_loss:.4f}, Accuracy: {train_accuracy:.4f}\")\n",
    "    with torch.no_grad():\n",
    "        prediction, truth = zip(*[(model(x.to(device)), y.to(device)) for x, y in val_loader])\n",
    "        prediction = torch.cat(prediction, dim=0)\n",
    "        truth = torch.cat(truth, dim=0)\n",
    "        val_loss = loss_fn(prediction, truth)\n",
    "        _loss_plot_test.append(val_loss.item())\n",
    "        \n",
    "    print(f\"Epoch [{epoch+1}/{num_epochs}] - Loss: {avg_loss:.4f} Val Loss: {val_loss:.4f}\")"
   ]
  },
  {
   "cell_type": "code",
   "execution_count": null,
   "id": "59c1d76d-8960-4cdf-93f2-4ea76d3b8f4f",
   "metadata": {},
   "outputs": [],
   "source": []
  }
 ],
 "metadata": {
  "kernelspec": {
   "display_name": "Python 3 (ipykernel)",
   "language": "python",
   "name": "python3"
  },
  "language_info": {
   "codemirror_mode": {
    "name": "ipython",
    "version": 3
   },
   "file_extension": ".py",
   "mimetype": "text/x-python",
   "name": "python",
   "nbconvert_exporter": "python",
   "pygments_lexer": "ipython3",
   "version": "3.8.16"
  }
 },
 "nbformat": 4,
 "nbformat_minor": 5
}
