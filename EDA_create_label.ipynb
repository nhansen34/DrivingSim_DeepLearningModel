{
 "cells": [
  {
   "cell_type": "code",
   "execution_count": 10,
   "id": "3a242348-f99b-4263-bf40-e5ef911c8410",
   "metadata": {},
   "outputs": [
    {
     "name": "stderr",
     "output_type": "stream",
     "text": [
      "Processing images:   0%|          | 0/350 [00:14<?, ?it/s]\n"
     ]
    },
    {
     "name": "stdout",
     "output_type": "stream",
     "text": [
      "cuda\n"
     ]
    }
   ],
   "source": [
    "import torch\n",
    "import seaborn as sns\n",
    "import numpy as np\n",
    "device = 'cuda' if torch.cuda.is_available() else 'cpu'\n",
    "print(device)"
   ]
  },
  {
   "cell_type": "code",
   "execution_count": 11,
   "id": "5fb69683-bd12-4b77-8bcd-d57701435b13",
   "metadata": {},
   "outputs": [],
   "source": [
    "import torchvision\n",
    "import torchvision.transforms as transforms\n",
    "import torch.nn as nn\n",
    "import torch.optim as optim"
   ]
  },
  {
   "cell_type": "code",
   "execution_count": 12,
   "id": "c8f6fbda-feb0-49d3-86c4-f99a258c5811",
   "metadata": {},
   "outputs": [],
   "source": [
    "model = torchvision.models.alexnet(weights=\"IMAGENET1K_V1\")\n",
    "transform=torchvision.models.ConvNeXt_Tiny_Weights.IMAGENET1K_V1.transforms()"
   ]
  },
  {
   "cell_type": "code",
   "execution_count": 13,
   "id": "564e32a4-e2ae-485b-a3e6-9d14f95fcc66",
   "metadata": {},
   "outputs": [
    {
     "name": "stdout",
     "output_type": "stream",
     "text": [
      "AlexNet(\n",
      "  (features): Sequential(\n",
      "    (0): Conv2d(3, 64, kernel_size=(11, 11), stride=(4, 4), padding=(2, 2))\n",
      "    (1): ReLU(inplace=True)\n",
      "    (2): MaxPool2d(kernel_size=3, stride=2, padding=0, dilation=1, ceil_mode=False)\n",
      "    (3): Conv2d(64, 192, kernel_size=(5, 5), stride=(1, 1), padding=(2, 2))\n",
      "    (4): ReLU(inplace=True)\n",
      "    (5): MaxPool2d(kernel_size=3, stride=2, padding=0, dilation=1, ceil_mode=False)\n",
      "    (6): Conv2d(192, 384, kernel_size=(3, 3), stride=(1, 1), padding=(1, 1))\n",
      "    (7): ReLU(inplace=True)\n",
      "    (8): Conv2d(384, 256, kernel_size=(3, 3), stride=(1, 1), padding=(1, 1))\n",
      "    (9): ReLU(inplace=True)\n",
      "    (10): Conv2d(256, 256, kernel_size=(3, 3), stride=(1, 1), padding=(1, 1))\n",
      "    (11): ReLU(inplace=True)\n",
      "    (12): MaxPool2d(kernel_size=3, stride=2, padding=0, dilation=1, ceil_mode=False)\n",
      "  )\n",
      "  (avgpool): AdaptiveAvgPool2d(output_size=(6, 6))\n",
      "  (classifier): Sequential(\n",
      "    (0): Dropout(p=0.5, inplace=False)\n",
      "    (1): Linear(in_features=9216, out_features=4096, bias=True)\n",
      "    (2): ReLU(inplace=True)\n",
      "    (3): Dropout(p=0.5, inplace=False)\n",
      "    (4): Linear(in_features=4096, out_features=4096, bias=True)\n",
      "    (5): ReLU(inplace=True)\n",
      "    (6): Linear(in_features=4096, out_features=1000, bias=True)\n",
      "  )\n",
      ")\n"
     ]
    }
   ],
   "source": [
    "print(model)"
   ]
  },
  {
   "cell_type": "code",
   "execution_count": null,
   "id": "01764168-4fa6-4a5c-9a4e-e973b85a7bf1",
   "metadata": {},
   "outputs": [],
   "source": []
  },
  {
   "cell_type": "code",
   "execution_count": null,
   "id": "6e9c3458-2a06-4796-8341-fb0d36dd0164",
   "metadata": {},
   "outputs": [],
   "source": []
  },
  {
   "cell_type": "code",
   "execution_count": 14,
   "id": "835cb063-ff2c-4155-8858-a2316f3425b9",
   "metadata": {},
   "outputs": [
    {
     "name": "stdout",
     "output_type": "stream",
     "text": [
      "/gpfs/home/nhansen3/DrivingSimProj\n"
     ]
    }
   ],
   "source": [
    "from PIL import Image\n",
    "import os\n",
    "print(os.getcwd())"
   ]
  },
  {
   "cell_type": "code",
   "execution_count": 15,
   "id": "ce5bddda-fefd-458a-9ed1-1cb23580ec12",
   "metadata": {},
   "outputs": [
    {
     "data": {
      "text/plain": [
       "(600, 800, 3)"
      ]
     },
     "execution_count": 15,
     "metadata": {},
     "output_type": "execute_result"
    }
   ],
   "source": [
    "image_path = \"DAVID-sim/m1596437/Images/Video_000/v000_0000.png\"  \n",
    "img_var = Image.open(image_path)\n",
    "np.asarray(img_var).shape"
   ]
  },
  {
   "cell_type": "code",
   "execution_count": 16,
   "id": "2ead638a-5f55-4ffc-89fa-16014571947f",
   "metadata": {},
   "outputs": [
    {
     "name": "stdout",
     "output_type": "stream",
     "text": [
      "Defaulting to user installation because normal site-packages is not writeable\n",
      "Requirement already satisfied: opencv-python in /gpfs/home/nhansen3/.local/lib/python3.8/site-packages (4.11.0.86)\n",
      "Requirement already satisfied: numpy>=1.17.0 in /gpfs/packages/miniconda-t2/20230523/envs/jupyter-cuda121-20230610/lib/python3.8/site-packages (from opencv-python) (1.24.3)\n",
      "Note: you may need to restart the kernel to use updated packages.\n"
     ]
    }
   ],
   "source": [
    "pip install opencv-python"
   ]
  },
  {
   "cell_type": "code",
   "execution_count": 22,
   "id": "b4839759-adc9-4afb-9e59-c0af196c3bd7",
   "metadata": {},
   "outputs": [],
   "source": [
    "test_folder = \"DAVID-sim/m1596437/Labels/Video_009\" "
   ]
  },
  {
   "cell_type": "code",
   "execution_count": 30,
   "id": "eebec778-0601-4bc6-ab05-1ffd5b1e78fd",
   "metadata": {},
   "outputs": [],
   "source": [
    "import os\n",
    "import cv2\n",
    "import numpy as np\n",
    "import pandas as pd\n",
    "import matplotlib.pyplot as plt"
   ]
  },
  {
   "cell_type": "code",
   "execution_count": 31,
   "id": "d8c5a8f0-25a1-423f-af27-0c33bb840e7e",
   "metadata": {},
   "outputs": [],
   "source": [
    "PEDESTRIAN_COLOR = (220, 20, 60)\n",
    "\n",
    "def count_pedestrian_pixels(image_path, pedestrian_color=PEDESTRIAN_COLOR):\n",
    "    \n",
    "    image = cv2.imread(image_path)  \n",
    "    if image is None:\n",
    "        print(f\"Error loading {image_path}\")\n",
    "        return 0\n",
    "    image = cv2.cvtColor(image, cv2.COLOR_BGR2RGB)\n",
    "    \n",
    "    mask = (image[:, :, 0] == pedestrian_color[0]) & \\\n",
    "           (image[:, :, 1] == pedestrian_color[1]) & \\\n",
    "           (image[:, :, 2] == pedestrian_color[2])\n",
    "    \n",
    "    return np.sum(mask)\n",
    "\n",
    "#risk thresholds are still made up and not real !!!\n",
    "def classify_risk(pixel_count):\n",
    "    if pixel_count > 2000:  \n",
    "        return \"High\"\n",
    "    elif 1000 <= pixel_count <= 2000:\n",
    "        return \"Medium\"\n",
    "    else:\n",
    "        return \"Low\""
   ]
  },
  {
   "cell_type": "code",
   "execution_count": 32,
   "id": "e4bfdaa6-763d-4509-b7ac-cbae972c02cf",
   "metadata": {},
   "outputs": [
    {
     "name": "stdout",
     "output_type": "stream",
     "text": [
      "           image  pedestrian_pixels risk_level\n",
      "0  v009_0011.png                216        Low\n",
      "1  v009_0143.png                179        Low\n",
      "2  v009_0174.png                200        Low\n",
      "3  v009_0256.png                338        Low\n",
      "4  v009_0113.png                221        Low 364\n"
     ]
    }
   ],
   "source": [
    "image_files = [f for f in os.listdir(test_folder) if f.endswith((\".png\", \".jpg\", \".jpeg\"))]\n",
    "\n",
    "data_list = []\n",
    "\n",
    "for image_file in image_files[:1000]: \n",
    "    image_path = os.path.join(test_folder, image_file)\n",
    "    pixel_count = count_pedestrian_pixels(image_path)\n",
    "    risk_level = classify_risk(pixel_count)\n",
    "    \n",
    "    data_list.append({\"image\": image_file, \"pedestrian_pixels\": pixel_count, \"risk_level\": risk_level})\n",
    "    \n",
    "df = pd.DataFrame(data_list)\n",
    "print(df.head(), len(df))"
   ]
  },
  {
   "cell_type": "code",
   "execution_count": 33,
   "id": "602b5db4-bacf-42ee-9b2e-170f699132f3",
   "metadata": {},
   "outputs": [
    {
     "data": {
      "image/png": "[encoded data removed]",
      "text/plain": [
       "<Figure size 1000x600 with 1 Axes>"
      ]
     },
     "metadata": {},
     "output_type": "display_data"
    }
   ],
   "source": [
    "plt.figure(figsize=(10, 6))\n",
    "sns.histplot(df, x=\"pedestrian_pixels\", hue=\"risk_level\", bins=30, kde=True)\n",
    "plt.xlabel(\"Pedestrian Pixel Count\")\n",
    "plt.ylabel(\"Frequency\")\n",
    "plt.title(\"Distribution of Pedestrian Pixels by Risk Level\")\n",
    "plt.show()"
   ]
  },
  {
   "cell_type": "code",
   "execution_count": 34,
   "id": "8d402805-d39a-4e28-a146-3a86c2aa89f6",
   "metadata": {},
   "outputs": [
    {
     "data": {
      "image/png": "[encoded data removed]",
      "text/plain": [
       "<Figure size 800x600 with 1 Axes>"
      ]
     },
     "metadata": {},
     "output_type": "display_data"
    }
   ],
   "source": [
    "plt.figure(figsize=(8, 6))\n",
    "sns.boxplot(data=df, x=\"risk_level\", y=\"pedestrian_pixels\")\n",
    "plt.xlabel(\"Risk Level\")\n",
    "plt.ylabel(\"Pedestrian Pixel Count\")\n",
    "plt.title(\"Boxplot of Pedestrian Pixels by Risk Level\")\n",
    "plt.show()"
   ]
  },
  {
   "cell_type": "code",
   "execution_count": 55,
   "id": "90b31088-c7db-4143-b576-c6edc0049cd3",
   "metadata": {},
   "outputs": [
    {
     "name": "stdout",
     "output_type": "stream",
     "text": [
      "Processing 342 images in DAVID-sim/m1596437/Labels/Video_001...\n"
     ]
    },
    {
     "name": "stderr",
     "output_type": "stream",
     "text": [
      "Processing DAVID-sim/m1596437/Labels/Video_001: 100%|██████████| 342/342 [00:01<00:00, 182.90it/s]\n"
     ]
    },
    {
     "name": "stdout",
     "output_type": "stream",
     "text": [
      "Processing 363 images in DAVID-sim/m1596437/Labels/Video_002...\n"
     ]
    },
    {
     "name": "stderr",
     "output_type": "stream",
     "text": [
      "Processing DAVID-sim/m1596437/Labels/Video_002: 100%|██████████| 363/363 [00:02<00:00, 179.25it/s]\n"
     ]
    },
    {
     "name": "stdout",
     "output_type": "stream",
     "text": [
      "Processing 350 images in DAVID-sim/m1596437/Labels/Video_003...\n"
     ]
    },
    {
     "name": "stderr",
     "output_type": "stream",
     "text": [
      "Processing DAVID-sim/m1596437/Labels/Video_003: 100%|██████████| 350/350 [00:01<00:00, 183.59it/s]\n"
     ]
    },
    {
     "name": "stdout",
     "output_type": "stream",
     "text": [
      "Processing 335 images in DAVID-sim/m1596437/Labels/Video_004...\n"
     ]
    },
    {
     "name": "stderr",
     "output_type": "stream",
     "text": [
      "Processing DAVID-sim/m1596437/Labels/Video_004: 100%|██████████| 335/335 [00:01<00:00, 180.50it/s]\n"
     ]
    },
    {
     "name": "stdout",
     "output_type": "stream",
     "text": [
      "Processing 390 images in DAVID-sim/m1596437/Labels/Video_005...\n"
     ]
    },
    {
     "name": "stderr",
     "output_type": "stream",
     "text": [
      "Processing DAVID-sim/m1596437/Labels/Video_005: 100%|██████████| 390/390 [00:02<00:00, 174.29it/s]\n"
     ]
    },
    {
     "name": "stdout",
     "output_type": "stream",
     "text": [
      "Processing 397 images in DAVID-sim/m1596437/Labels/Video_006...\n"
     ]
    },
    {
     "name": "stderr",
     "output_type": "stream",
     "text": [
      "Processing DAVID-sim/m1596437/Labels/Video_006: 100%|██████████| 397/397 [00:02<00:00, 172.59it/s]\n"
     ]
    },
    {
     "name": "stdout",
     "output_type": "stream",
     "text": [
      "Processing 443 images in DAVID-sim/m1596437/Labels/Video_007...\n"
     ]
    },
    {
     "name": "stderr",
     "output_type": "stream",
     "text": [
      "Processing DAVID-sim/m1596437/Labels/Video_007: 100%|██████████| 443/443 [00:02<00:00, 176.09it/s]\n"
     ]
    },
    {
     "name": "stdout",
     "output_type": "stream",
     "text": [
      "Processing 393 images in DAVID-sim/m1596437/Labels/Video_008...\n"
     ]
    },
    {
     "name": "stderr",
     "output_type": "stream",
     "text": [
      "Processing DAVID-sim/m1596437/Labels/Video_008: 100%|██████████| 393/393 [00:02<00:00, 185.07it/s]\n"
     ]
    },
    {
     "name": "stdout",
     "output_type": "stream",
     "text": [
      "Processing 364 images in DAVID-sim/m1596437/Labels/Video_009...\n"
     ]
    },
    {
     "name": "stderr",
     "output_type": "stream",
     "text": [
      "Processing DAVID-sim/m1596437/Labels/Video_009: 100%|██████████| 364/364 [00:01<00:00, 182.44it/s]\n"
     ]
    },
    {
     "name": "stdout",
     "output_type": "stream",
     "text": [
      "Processing 438 images in DAVID-sim/m1596437/Labels/Video_010...\n"
     ]
    },
    {
     "name": "stderr",
     "output_type": "stream",
     "text": [
      "Processing DAVID-sim/m1596437/Labels/Video_010: 100%|██████████| 438/438 [00:02<00:00, 189.63it/s]\n"
     ]
    },
    {
     "name": "stdout",
     "output_type": "stream",
     "text": [
      "Processing 346 images in DAVID-sim/m1596437/Labels/Video_011...\n"
     ]
    },
    {
     "name": "stderr",
     "output_type": "stream",
     "text": [
      "Processing DAVID-sim/m1596437/Labels/Video_011: 100%|██████████| 346/346 [00:01<00:00, 180.69it/s]\n"
     ]
    },
    {
     "name": "stdout",
     "output_type": "stream",
     "text": [
      "Processing 380 images in DAVID-sim/m1596437/Labels/Video_012...\n"
     ]
    },
    {
     "name": "stderr",
     "output_type": "stream",
     "text": [
      "Processing DAVID-sim/m1596437/Labels/Video_012: 100%|██████████| 380/380 [00:02<00:00, 178.72it/s]\n"
     ]
    },
    {
     "name": "stdout",
     "output_type": "stream",
     "text": [
      "Processing 325 images in DAVID-sim/m1596437/Labels/Video_013...\n"
     ]
    },
    {
     "name": "stderr",
     "output_type": "stream",
     "text": [
      "Processing DAVID-sim/m1596437/Labels/Video_013: 100%|██████████| 325/325 [00:01<00:00, 183.33it/s]\n"
     ]
    },
    {
     "name": "stdout",
     "output_type": "stream",
     "text": [
      "Processing 357 images in DAVID-sim/m1596437/Labels/Video_014...\n"
     ]
    },
    {
     "name": "stderr",
     "output_type": "stream",
     "text": [
      "Processing DAVID-sim/m1596437/Labels/Video_014: 100%|██████████| 357/357 [00:02<00:00, 176.47it/s]\n"
     ]
    },
    {
     "name": "stdout",
     "output_type": "stream",
     "text": [
      "Processing 384 images in DAVID-sim/m1596437/Labels/Video_015...\n"
     ]
    },
    {
     "name": "stderr",
     "output_type": "stream",
     "text": [
      "Processing DAVID-sim/m1596437/Labels/Video_015: 100%|██████████| 384/384 [00:02<00:00, 181.06it/s]\n"
     ]
    },
    {
     "name": "stdout",
     "output_type": "stream",
     "text": [
      "Processing 350 images in DAVID-sim/m1596437/Labels/Video_016...\n"
     ]
    },
    {
     "name": "stderr",
     "output_type": "stream",
     "text": [
      "Processing DAVID-sim/m1596437/Labels/Video_016: 100%|██████████| 350/350 [00:01<00:00, 180.19it/s]\n"
     ]
    },
    {
     "name": "stdout",
     "output_type": "stream",
     "text": [
      "Processing 360 images in DAVID-sim/m1596437/Labels/Video_017...\n"
     ]
    },
    {
     "name": "stderr",
     "output_type": "stream",
     "text": [
      "Processing DAVID-sim/m1596437/Labels/Video_017: 100%|██████████| 360/360 [00:01<00:00, 181.14it/s]\n"
     ]
    },
    {
     "name": "stdout",
     "output_type": "stream",
     "text": [
      "Processing 374 images in DAVID-sim/m1596437/Labels/Video_018...\n"
     ]
    },
    {
     "name": "stderr",
     "output_type": "stream",
     "text": [
      "Processing DAVID-sim/m1596437/Labels/Video_018: 100%|██████████| 374/374 [00:02<00:00, 177.79it/s]\n"
     ]
    },
    {
     "name": "stdout",
     "output_type": "stream",
     "text": [
      "Processing 431 images in DAVID-sim/m1596437/Labels/Video_019...\n"
     ]
    },
    {
     "name": "stderr",
     "output_type": "stream",
     "text": [
      "Processing DAVID-sim/m1596437/Labels/Video_019: 100%|██████████| 431/431 [00:02<00:00, 182.62it/s]\n"
     ]
    },
    {
     "name": "stdout",
     "output_type": "stream",
     "text": [
      "Processing 366 images in DAVID-sim/m1596437/Labels/Video_020...\n"
     ]
    },
    {
     "name": "stderr",
     "output_type": "stream",
     "text": [
      "Processing DAVID-sim/m1596437/Labels/Video_020: 100%|██████████| 366/366 [00:01<00:00, 183.47it/s]\n"
     ]
    },
    {
     "name": "stdout",
     "output_type": "stream",
     "text": [
      "Processing 448 images in DAVID-sim/m1596437/Labels/Video_021...\n"
     ]
    },
    {
     "name": "stderr",
     "output_type": "stream",
     "text": [
      "Processing DAVID-sim/m1596437/Labels/Video_021: 100%|██████████| 448/448 [00:02<00:00, 171.54it/s]\n"
     ]
    },
    {
     "name": "stdout",
     "output_type": "stream",
     "text": [
      "Processing 351 images in DAVID-sim/m1596437/Labels/Video_022...\n"
     ]
    },
    {
     "name": "stderr",
     "output_type": "stream",
     "text": [
      "Processing DAVID-sim/m1596437/Labels/Video_022: 100%|██████████| 351/351 [00:02<00:00, 175.39it/s]\n"
     ]
    },
    {
     "name": "stdout",
     "output_type": "stream",
     "text": [
      "Processing 451 images in DAVID-sim/m1596437/Labels/Video_023...\n"
     ]
    },
    {
     "name": "stderr",
     "output_type": "stream",
     "text": [
      "Processing DAVID-sim/m1596437/Labels/Video_023: 100%|██████████| 451/451 [00:02<00:00, 182.74it/s]\n"
     ]
    },
    {
     "name": "stdout",
     "output_type": "stream",
     "text": [
      "Processing 443 images in DAVID-sim/m1596437/Labels/Video_024...\n"
     ]
    },
    {
     "name": "stderr",
     "output_type": "stream",
     "text": [
      "Processing DAVID-sim/m1596437/Labels/Video_024: 100%|██████████| 443/443 [00:02<00:00, 180.25it/s]\n"
     ]
    },
    {
     "name": "stdout",
     "output_type": "stream",
     "text": [
      "Processing 438 images in DAVID-sim/m1596437/Labels/Video_025...\n"
     ]
    },
    {
     "name": "stderr",
     "output_type": "stream",
     "text": [
      "Processing DAVID-sim/m1596437/Labels/Video_025: 100%|██████████| 438/438 [00:02<00:00, 178.61it/s]\n"
     ]
    },
    {
     "name": "stdout",
     "output_type": "stream",
     "text": [
      "Processing 386 images in DAVID-sim/m1596437/Labels/Video_026...\n"
     ]
    },
    {
     "name": "stderr",
     "output_type": "stream",
     "text": [
      "Processing DAVID-sim/m1596437/Labels/Video_026: 100%|██████████| 386/386 [00:02<00:00, 170.59it/s]\n"
     ]
    },
    {
     "name": "stdout",
     "output_type": "stream",
     "text": [
      "Processing 457 images in DAVID-sim/m1596437/Labels/Video_027...\n"
     ]
    },
    {
     "name": "stderr",
     "output_type": "stream",
     "text": [
      "Processing DAVID-sim/m1596437/Labels/Video_027: 100%|██████████| 457/457 [00:02<00:00, 178.70it/s]"
     ]
    },
    {
     "name": "stdout",
     "output_type": "stream",
     "text": [
      "                                folder          image  pedestrian_pixels  \\\n",
      "0  DAVID-sim/m1596437/Labels/Video_001  v001_0341.png               3358   \n",
      "1  DAVID-sim/m1596437/Labels/Video_001  v001_0036.png                355   \n",
      "2  DAVID-sim/m1596437/Labels/Video_001  v001_0000.png                418   \n",
      "3  DAVID-sim/m1596437/Labels/Video_001  v001_0270.png               2761   \n",
      "4  DAVID-sim/m1596437/Labels/Video_001  v001_0283.png               3224   \n",
      "\n",
      "  risk_level  \n",
      "0       High  \n",
      "1     Medium  \n",
      "2     Medium  \n",
      "3       High  \n",
      "4       High   10462\n"
     ]
    },
    {
     "name": "stderr",
     "output_type": "stream",
     "text": [
      "\n"
     ]
    }
   ],
   "source": [
    "import os\n",
    "import pandas as pd\n",
    "from pathlib import Path\n",
    "from tqdm import tqdm\n",
    "\n",
    "PEDESTRIAN_COLOR = (220, 20, 60)\n",
    "\n",
    "def count_pedestrian_pixels(image_path, pedestrian_color=PEDESTRIAN_COLOR):\n",
    "    \"\"\"Counts the number of pedestrian pixels in an image.\"\"\"\n",
    "    image = cv2.imread(str(image_path))\n",
    "    if image is None:\n",
    "        print(f\"Error loading {image_path}\")\n",
    "        return 0\n",
    "    image = cv2.cvtColor(image, cv2.COLOR_BGR2RGB)\n",
    "    mask = (image[:, :, 0] == pedestrian_color[0]) & \\\n",
    "           (image[:, :, 1] == pedestrian_color[1]) & \\\n",
    "           (image[:, :, 2] == pedestrian_color[2])\n",
    "    return int(np.sum(mask))  # Ensure integer output\n",
    "\n",
    "def classify_risk(pixel_count):\n",
    "    \"\"\"Classifies pedestrian risk based on pixel count.\"\"\"\n",
    "    if pixel_count > 1000:\n",
    "        return \"High\"\n",
    "    elif 250 <= pixel_count <= 1000:\n",
    "        return \"Medium\"\n",
    "    else:\n",
    "        return \"Low\"\n",
    "\n",
    "# List of folders to process\n",
    "test_folders = [\n",
    "    \"DAVID-sim/m1596437/Labels/Video_001\",\n",
    "    \"DAVID-sim/m1596437/Labels/Video_002\",\n",
    "    \"DAVID-sim/m1596437/Labels/Video_003\",\n",
    "    \"DAVID-sim/m1596437/Labels/Video_004\",\n",
    "    \"DAVID-sim/m1596437/Labels/Video_005\",\n",
    "    \"DAVID-sim/m1596437/Labels/Video_006\",\n",
    "    \"DAVID-sim/m1596437/Labels/Video_007\",\n",
    "    \"DAVID-sim/m1596437/Labels/Video_008\",\n",
    "    \"DAVID-sim/m1596437/Labels/Video_009\",\n",
    "    \"DAVID-sim/m1596437/Labels/Video_010\",\n",
    "    \"DAVID-sim/m1596437/Labels/Video_011\",\n",
    "    \"DAVID-sim/m1596437/Labels/Video_012\",\n",
    "    \"DAVID-sim/m1596437/Labels/Video_013\",\n",
    "    \"DAVID-sim/m1596437/Labels/Video_014\",\n",
    "    \"DAVID-sim/m1596437/Labels/Video_015\",\n",
    "    \"DAVID-sim/m1596437/Labels/Video_016\",\n",
    "    \"DAVID-sim/m1596437/Labels/Video_017\",\n",
    "    \"DAVID-sim/m1596437/Labels/Video_018\",\n",
    "    \"DAVID-sim/m1596437/Labels/Video_019\",\n",
    "    \"DAVID-sim/m1596437/Labels/Video_020\",\n",
    "    \"DAVID-sim/m1596437/Labels/Video_021\",\n",
    "    \"DAVID-sim/m1596437/Labels/Video_022\",\n",
    "    \"DAVID-sim/m1596437/Labels/Video_023\",\n",
    "    \"DAVID-sim/m1596437/Labels/Video_024\",\n",
    "    \"DAVID-sim/m1596437/Labels/Video_025\",\n",
    "    \"DAVID-sim/m1596437/Labels/Video_026\",\n",
    "    \"DAVID-sim/m1596437/Labels/Video_027\"\n",
    "]\n",
    "\n",
    "# Collect data from all folders\n",
    "data_list = []\n",
    "\n",
    "for folder in test_folders:\n",
    "    folder_path = Path(folder)\n",
    "    \n",
    "    if not folder_path.exists():\n",
    "        print(f\"Warning: Folder {folder} does not exist. Skipping...\")\n",
    "        continue  # Skip non-existing folders\n",
    "    \n",
    "    # Get all images in the folder\n",
    "    image_files = list(folder_path.glob(\"*.png\")) + \\\n",
    "                  list(folder_path.glob(\"*.jpg\")) + \\\n",
    "                  list(folder_path.glob(\"*.jpeg\"))\n",
    "\n",
    "    if not image_files:\n",
    "        print(f\"Warning: No images found in {folder}. Skipping...\")\n",
    "        continue\n",
    "\n",
    "    print(f\"Processing {len(image_files)} images in {folder}...\")\n",
    "\n",
    "    # Process images in this folder\n",
    "    for image_path in tqdm(image_files[:1000], desc=f\"Processing {folder}\"):\n",
    "        pixel_count = count_pedestrian_pixels(str(image_path))\n",
    "        risk_level = classify_risk(pixel_count)\n",
    "\n",
    "        data_list.append({\n",
    "            \"folder\": folder,\n",
    "            \"image\": image_path.name,\n",
    "            \"pedestrian_pixels\": pixel_count,\n",
    "            \"risk_level\": risk_level\n",
    "        })\n",
    "\n",
    "# Convert to DataFrame\n",
    "df = pd.DataFrame(data_list)\n",
    "\n",
    "# Display results\n",
    "print(df.head(), len(df))\n"
   ]
  },
  {
   "cell_type": "code",
   "execution_count": 58,
   "id": "700e71b2-6b6f-49a4-ac2f-aa299c86793c",
   "metadata": {},
   "outputs": [
    {
     "name": "stdout",
     "output_type": "stream",
     "text": [
      "Processing 342 images in DAVID-sim/m1596437/Labels/Video_001...\n"
     ]
    },
    {
     "name": "stderr",
     "output_type": "stream",
     "text": [
      "Processing DAVID-sim/m1596437/Labels/Video_001: 100%|██████████| 342/342 [00:02<00:00, 153.99it/s]\n"
     ]
    },
    {
     "name": "stdout",
     "output_type": "stream",
     "text": [
      "Processing 363 images in DAVID-sim/m1596437/Labels/Video_002...\n"
     ]
    },
    {
     "name": "stderr",
     "output_type": "stream",
     "text": [
      "Processing DAVID-sim/m1596437/Labels/Video_002: 100%|██████████| 363/363 [00:02<00:00, 173.00it/s]\n"
     ]
    },
    {
     "name": "stdout",
     "output_type": "stream",
     "text": [
      "Processing 350 images in DAVID-sim/m1596437/Labels/Video_003...\n"
     ]
    },
    {
     "name": "stderr",
     "output_type": "stream",
     "text": [
      "Processing DAVID-sim/m1596437/Labels/Video_003: 100%|██████████| 350/350 [00:02<00:00, 174.07it/s]\n"
     ]
    },
    {
     "name": "stdout",
     "output_type": "stream",
     "text": [
      "Processing 335 images in DAVID-sim/m1596437/Labels/Video_004...\n"
     ]
    },
    {
     "name": "stderr",
     "output_type": "stream",
     "text": [
      "Processing DAVID-sim/m1596437/Labels/Video_004: 100%|██████████| 335/335 [00:02<00:00, 164.11it/s]\n"
     ]
    },
    {
     "name": "stdout",
     "output_type": "stream",
     "text": [
      "Processing 390 images in DAVID-sim/m1596437/Labels/Video_005...\n"
     ]
    },
    {
     "name": "stderr",
     "output_type": "stream",
     "text": [
      "Processing DAVID-sim/m1596437/Labels/Video_005: 100%|██████████| 390/390 [00:02<00:00, 172.69it/s]\n"
     ]
    },
    {
     "name": "stdout",
     "output_type": "stream",
     "text": [
      "Processing 397 images in DAVID-sim/m1596437/Labels/Video_006...\n"
     ]
    },
    {
     "name": "stderr",
     "output_type": "stream",
     "text": [
      "Processing DAVID-sim/m1596437/Labels/Video_006: 100%|██████████| 397/397 [00:02<00:00, 153.53it/s]\n"
     ]
    },
    {
     "name": "stdout",
     "output_type": "stream",
     "text": [
      "Processing 443 images in DAVID-sim/m1596437/Labels/Video_007...\n"
     ]
    },
    {
     "name": "stderr",
     "output_type": "stream",
     "text": [
      "Processing DAVID-sim/m1596437/Labels/Video_007: 100%|██████████| 443/443 [00:02<00:00, 161.86it/s]\n"
     ]
    },
    {
     "name": "stdout",
     "output_type": "stream",
     "text": [
      "Processing 393 images in DAVID-sim/m1596437/Labels/Video_008...\n"
     ]
    },
    {
     "name": "stderr",
     "output_type": "stream",
     "text": [
      "Processing DAVID-sim/m1596437/Labels/Video_008: 100%|██████████| 393/393 [00:02<00:00, 166.47it/s]\n"
     ]
    },
    {
     "name": "stdout",
     "output_type": "stream",
     "text": [
      "Processing 364 images in DAVID-sim/m1596437/Labels/Video_009...\n"
     ]
    },
    {
     "name": "stderr",
     "output_type": "stream",
     "text": [
      "Processing DAVID-sim/m1596437/Labels/Video_009: 100%|██████████| 364/364 [00:02<00:00, 169.19it/s]\n"
     ]
    },
    {
     "name": "stdout",
     "output_type": "stream",
     "text": [
      "Processing 438 images in DAVID-sim/m1596437/Labels/Video_010...\n"
     ]
    },
    {
     "name": "stderr",
     "output_type": "stream",
     "text": [
      "Processing DAVID-sim/m1596437/Labels/Video_010: 100%|██████████| 438/438 [00:02<00:00, 171.90it/s]\n"
     ]
    },
    {
     "name": "stdout",
     "output_type": "stream",
     "text": [
      "Processing 346 images in DAVID-sim/m1596437/Labels/Video_011...\n"
     ]
    },
    {
     "name": "stderr",
     "output_type": "stream",
     "text": [
      "Processing DAVID-sim/m1596437/Labels/Video_011: 100%|██████████| 346/346 [00:02<00:00, 148.68it/s]\n"
     ]
    },
    {
     "name": "stdout",
     "output_type": "stream",
     "text": [
      "Processing 380 images in DAVID-sim/m1596437/Labels/Video_012...\n"
     ]
    },
    {
     "name": "stderr",
     "output_type": "stream",
     "text": [
      "Processing DAVID-sim/m1596437/Labels/Video_012: 100%|██████████| 380/380 [00:02<00:00, 165.36it/s]\n"
     ]
    },
    {
     "name": "stdout",
     "output_type": "stream",
     "text": [
      "Processing 325 images in DAVID-sim/m1596437/Labels/Video_013...\n"
     ]
    },
    {
     "name": "stderr",
     "output_type": "stream",
     "text": [
      "Processing DAVID-sim/m1596437/Labels/Video_013: 100%|██████████| 325/325 [00:01<00:00, 170.29it/s]\n"
     ]
    },
    {
     "name": "stdout",
     "output_type": "stream",
     "text": [
      "Processing 357 images in DAVID-sim/m1596437/Labels/Video_014...\n"
     ]
    },
    {
     "name": "stderr",
     "output_type": "stream",
     "text": [
      "Processing DAVID-sim/m1596437/Labels/Video_014: 100%|██████████| 357/357 [00:02<00:00, 162.27it/s]\n"
     ]
    },
    {
     "name": "stdout",
     "output_type": "stream",
     "text": [
      "Processing 384 images in DAVID-sim/m1596437/Labels/Video_015...\n"
     ]
    },
    {
     "name": "stderr",
     "output_type": "stream",
     "text": [
      "Processing DAVID-sim/m1596437/Labels/Video_015: 100%|██████████| 384/384 [00:02<00:00, 154.05it/s]\n"
     ]
    },
    {
     "name": "stdout",
     "output_type": "stream",
     "text": [
      "Processing 350 images in DAVID-sim/m1596437/Labels/Video_016...\n"
     ]
    },
    {
     "name": "stderr",
     "output_type": "stream",
     "text": [
      "Processing DAVID-sim/m1596437/Labels/Video_016: 100%|██████████| 350/350 [00:02<00:00, 152.53it/s]\n"
     ]
    },
    {
     "name": "stdout",
     "output_type": "stream",
     "text": [
      "Processing 360 images in DAVID-sim/m1596437/Labels/Video_017...\n"
     ]
    },
    {
     "name": "stderr",
     "output_type": "stream",
     "text": [
      "Processing DAVID-sim/m1596437/Labels/Video_017: 100%|██████████| 360/360 [00:02<00:00, 174.33it/s]\n"
     ]
    },
    {
     "name": "stdout",
     "output_type": "stream",
     "text": [
      "Processing 374 images in DAVID-sim/m1596437/Labels/Video_018...\n"
     ]
    },
    {
     "name": "stderr",
     "output_type": "stream",
     "text": [
      "Processing DAVID-sim/m1596437/Labels/Video_018: 100%|██████████| 374/374 [00:02<00:00, 146.80it/s]\n"
     ]
    },
    {
     "name": "stdout",
     "output_type": "stream",
     "text": [
      "Processing 431 images in DAVID-sim/m1596437/Labels/Video_019...\n"
     ]
    },
    {
     "name": "stderr",
     "output_type": "stream",
     "text": [
      "Processing DAVID-sim/m1596437/Labels/Video_019: 100%|██████████| 431/431 [00:02<00:00, 163.49it/s]\n"
     ]
    },
    {
     "name": "stdout",
     "output_type": "stream",
     "text": [
      "Processing 366 images in DAVID-sim/m1596437/Labels/Video_020...\n"
     ]
    },
    {
     "name": "stderr",
     "output_type": "stream",
     "text": [
      "Processing DAVID-sim/m1596437/Labels/Video_020: 100%|██████████| 366/366 [00:02<00:00, 159.32it/s]\n"
     ]
    },
    {
     "name": "stdout",
     "output_type": "stream",
     "text": [
      "Processing 448 images in DAVID-sim/m1596437/Labels/Video_021...\n"
     ]
    },
    {
     "name": "stderr",
     "output_type": "stream",
     "text": [
      "Processing DAVID-sim/m1596437/Labels/Video_021: 100%|██████████| 448/448 [00:03<00:00, 147.98it/s]\n"
     ]
    },
    {
     "name": "stdout",
     "output_type": "stream",
     "text": [
      "Processing 351 images in DAVID-sim/m1596437/Labels/Video_022...\n"
     ]
    },
    {
     "name": "stderr",
     "output_type": "stream",
     "text": [
      "Processing DAVID-sim/m1596437/Labels/Video_022: 100%|██████████| 351/351 [00:02<00:00, 152.59it/s]\n"
     ]
    },
    {
     "name": "stdout",
     "output_type": "stream",
     "text": [
      "Processing 451 images in DAVID-sim/m1596437/Labels/Video_023...\n"
     ]
    },
    {
     "name": "stderr",
     "output_type": "stream",
     "text": [
      "Processing DAVID-sim/m1596437/Labels/Video_023: 100%|██████████| 451/451 [00:02<00:00, 158.41it/s]\n"
     ]
    },
    {
     "name": "stdout",
     "output_type": "stream",
     "text": [
      "Processing 443 images in DAVID-sim/m1596437/Labels/Video_024...\n"
     ]
    },
    {
     "name": "stderr",
     "output_type": "stream",
     "text": [
      "Processing DAVID-sim/m1596437/Labels/Video_024: 100%|██████████| 443/443 [00:02<00:00, 154.10it/s]\n"
     ]
    },
    {
     "name": "stdout",
     "output_type": "stream",
     "text": [
      "Processing 438 images in DAVID-sim/m1596437/Labels/Video_025...\n"
     ]
    },
    {
     "name": "stderr",
     "output_type": "stream",
     "text": [
      "Processing DAVID-sim/m1596437/Labels/Video_025: 100%|██████████| 438/438 [00:03<00:00, 145.85it/s]\n"
     ]
    },
    {
     "name": "stdout",
     "output_type": "stream",
     "text": [
      "Processing 386 images in DAVID-sim/m1596437/Labels/Video_026...\n"
     ]
    },
    {
     "name": "stderr",
     "output_type": "stream",
     "text": [
      "Processing DAVID-sim/m1596437/Labels/Video_026: 100%|██████████| 386/386 [00:02<00:00, 138.52it/s]\n"
     ]
    },
    {
     "name": "stdout",
     "output_type": "stream",
     "text": [
      "Processing 457 images in DAVID-sim/m1596437/Labels/Video_027...\n"
     ]
    },
    {
     "name": "stderr",
     "output_type": "stream",
     "text": [
      "Processing DAVID-sim/m1596437/Labels/Video_027: 100%|██████████| 457/457 [00:03<00:00, 140.52it/s]\n"
     ]
    },
    {
     "name": "stdout",
     "output_type": "stream",
     "text": [
      "                                folder          image  \\\n",
      "0  DAVID-sim/m1596437/Labels/Video_001  v001_0341.png   \n",
      "1  DAVID-sim/m1596437/Labels/Video_001  v001_0036.png   \n",
      "2  DAVID-sim/m1596437/Labels/Video_001  v001_0000.png   \n",
      "3  DAVID-sim/m1596437/Labels/Video_001  v001_0270.png   \n",
      "4  DAVID-sim/m1596437/Labels/Video_001  v001_0283.png   \n",
      "\n",
      "                                          image_path  pedestrian_pixels  \\\n",
      "0  DAVID-sim/m1596437/Labels/Video_001/v001_0341.png               3358   \n",
      "1  DAVID-sim/m1596437/Labels/Video_001/v001_0036.png                355   \n",
      "2  DAVID-sim/m1596437/Labels/Video_001/v001_0000.png                418   \n",
      "3  DAVID-sim/m1596437/Labels/Video_001/v001_0270.png               2761   \n",
      "4  DAVID-sim/m1596437/Labels/Video_001/v001_0283.png               3224   \n",
      "\n",
      "  risk_level  \n",
      "0     Medium  \n",
      "1        Low  \n",
      "2        Low  \n",
      "3     Medium  \n",
      "4     Medium   10462\n"
     ]
    }
   ],
   "source": [
    "import os\n",
    "import pandas as pd\n",
    "from pathlib import Path\n",
    "from tqdm import tqdm\n",
    "\n",
    "PEDESTRIAN_COLOR = (220, 20, 60)\n",
    "\n",
    "def count_pedestrian_pixels(image_path, pedestrian_color=PEDESTRIAN_COLOR):\n",
    "    \"\"\"Counts the number of pedestrian pixels in an image.\"\"\"\n",
    "    image = cv2.imread(str(image_path))\n",
    "    if image is None:\n",
    "        print(f\"Error loading {image_path}\")\n",
    "        return 0\n",
    "    image = cv2.cvtColor(image, cv2.COLOR_BGR2RGB)\n",
    "    mask = (image[:, :, 0] == pedestrian_color[0]) & \\\n",
    "           (image[:, :, 1] == pedestrian_color[1]) & \\\n",
    "           (image[:, :, 2] == pedestrian_color[2])\n",
    "    return int(np.sum(mask))  # Ensure integer output\n",
    "\n",
    "def classify_risk(pixel_count):\n",
    "    \"\"\"Classifies pedestrian risk based on pixel count.\"\"\"\n",
    "    if pixel_count > 5000:\n",
    "        return \"High\"\n",
    "    elif 1000 <= pixel_count <= 5000:\n",
    "        return \"Medium\"\n",
    "    else:\n",
    "        return \"Low\"\n",
    "\n",
    "# List of folders to process\n",
    "test_folders = [\n",
    "    \"DAVID-sim/m1596437/Labels/Video_001\",\n",
    "    \"DAVID-sim/m1596437/Labels/Video_002\",\n",
    "    \"DAVID-sim/m1596437/Labels/Video_003\",\n",
    "    \"DAVID-sim/m1596437/Labels/Video_004\",\n",
    "    \"DAVID-sim/m1596437/Labels/Video_005\",\n",
    "    \"DAVID-sim/m1596437/Labels/Video_006\",\n",
    "    \"DAVID-sim/m1596437/Labels/Video_007\",\n",
    "    \"DAVID-sim/m1596437/Labels/Video_008\",\n",
    "    \"DAVID-sim/m1596437/Labels/Video_009\",\n",
    "    \"DAVID-sim/m1596437/Labels/Video_010\",\n",
    "    \"DAVID-sim/m1596437/Labels/Video_011\",\n",
    "    \"DAVID-sim/m1596437/Labels/Video_012\",\n",
    "    \"DAVID-sim/m1596437/Labels/Video_013\",\n",
    "    \"DAVID-sim/m1596437/Labels/Video_014\",\n",
    "    \"DAVID-sim/m1596437/Labels/Video_015\",\n",
    "    \"DAVID-sim/m1596437/Labels/Video_016\",\n",
    "    \"DAVID-sim/m1596437/Labels/Video_017\",\n",
    "    \"DAVID-sim/m1596437/Labels/Video_018\",\n",
    "    \"DAVID-sim/m1596437/Labels/Video_019\",\n",
    "    \"DAVID-sim/m1596437/Labels/Video_020\",\n",
    "    \"DAVID-sim/m1596437/Labels/Video_021\",\n",
    "    \"DAVID-sim/m1596437/Labels/Video_022\",\n",
    "    \"DAVID-sim/m1596437/Labels/Video_023\",\n",
    "    \"DAVID-sim/m1596437/Labels/Video_024\",\n",
    "    \"DAVID-sim/m1596437/Labels/Video_025\",\n",
    "    \"DAVID-sim/m1596437/Labels/Video_026\",\n",
    "    \"DAVID-sim/m1596437/Labels/Video_027\"\n",
    "]\n",
    "\n",
    "# Collect data from all folders\n",
    "data_list = []\n",
    "\n",
    "for folder in test_folders:\n",
    "    folder_path = Path(folder)\n",
    "    \n",
    "    if not folder_path.exists():\n",
    "        print(f\"Warning: Folder {folder} does not exist. Skipping...\")\n",
    "        continue  # Skip non-existing folders\n",
    "    \n",
    "    # Get all images in the folder\n",
    "    image_files = list(folder_path.glob(\"*.png\")) + \\\n",
    "                  list(folder_path.glob(\"*.jpg\")) + \\\n",
    "                  list(folder_path.glob(\"*.jpeg\"))\n",
    "\n",
    "    if not image_files:\n",
    "        print(f\"Warning: No images found in {folder}. Skipping...\")\n",
    "        continue\n",
    "\n",
    "    print(f\"Processing {len(image_files)} images in {folder}...\")\n",
    "\n",
    "    # Process images in this folder\n",
    "    for image_path in tqdm(image_files[:1000], desc=f\"Processing {folder}\"):\n",
    "        pixel_count = count_pedestrian_pixels(str(image_path))\n",
    "        risk_level = classify_risk(pixel_count)\n",
    "\n",
    "        # Add the full path to the data\n",
    "        data_list.append({\n",
    "            \"folder\": folder,\n",
    "            \"image\": image_path.name,\n",
    "            \"image_path\": str(image_path),  # Add full path\n",
    "            \"pedestrian_pixels\": pixel_count,\n",
    "            \"risk_level\": risk_level\n",
    "        })\n",
    "\n",
    "# Convert to DataFrame\n",
    "df = pd.DataFrame(data_list)\n",
    "\n",
    "# Save to CSV\n",
    "df.to_csv(\"pedestrian_risk_analysis.csv\", index=False)\n",
    "\n",
    "# Display results\n",
    "print(df.head(), len(df))"
   ]
  },
  {
   "cell_type": "code",
   "execution_count": 61,
   "id": "70765372-263d-4c2b-b29f-d495a6def5cb",
   "metadata": {},
   "outputs": [
    {
     "name": "stdout",
     "output_type": "stream",
     "text": [
      "/gpfs/home/nhansen3/DrivingSimProj/pedestrian_risk_analysis.csv\n"
     ]
    }
   ],
   "source": [
    "file_path = \"pedestrian_risk_analysis.csv\"\n",
    "absolute_path = os.path.abspath(file_path)\n",
    "print(absolute_path)"
   ]
  },
  {
   "cell_type": "code",
   "execution_count": 60,
   "id": "a71e15fc-8551-4b07-9c7b-6705a1ab4298",
   "metadata": {},
   "outputs": [
    {
     "data": {
      "text/html": [
       "<div>\n",
       "<style scoped>\n",
       "    .dataframe tbody tr th:only-of-type {\n",
       "        vertical-align: middle;\n",
       "    }\n",
       "\n",
       "    .dataframe tbody tr th {\n",
       "        vertical-align: top;\n",
       "    }\n",
       "\n",
       "    .dataframe thead th {\n",
       "        text-align: right;\n",
       "    }\n",
       "</style>\n",
       "<table border=\"1\" class=\"dataframe\">\n",
       "  <thead>\n",
       "    <tr style=\"text-align: right;\">\n",
       "      <th></th>\n",
       "      <th>folder</th>\n",
       "      <th>image</th>\n",
       "      <th>image_path</th>\n",
       "      <th>pedestrian_pixels</th>\n",
       "      <th>risk_level</th>\n",
       "    </tr>\n",
       "  </thead>\n",
       "  <tbody>\n",
       "    <tr>\n",
       "      <th>0</th>\n",
       "      <td>DAVID-sim/m1596437/Labels/Video_001</td>\n",
       "      <td>v001_0341.png</td>\n",
       "      <td>DAVID-sim/m1596437/Labels/Video_001/v001_0341.png</td>\n",
       "      <td>3358</td>\n",
       "      <td>Medium</td>\n",
       "    </tr>\n",
       "    <tr>\n",
       "      <th>1</th>\n",
       "      <td>DAVID-sim/m1596437/Labels/Video_001</td>\n",
       "      <td>v001_0036.png</td>\n",
       "      <td>DAVID-sim/m1596437/Labels/Video_001/v001_0036.png</td>\n",
       "      <td>355</td>\n",
       "      <td>Low</td>\n",
       "    </tr>\n",
       "    <tr>\n",
       "      <th>2</th>\n",
       "      <td>DAVID-sim/m1596437/Labels/Video_001</td>\n",
       "      <td>v001_0000.png</td>\n",
       "      <td>DAVID-sim/m1596437/Labels/Video_001/v001_0000.png</td>\n",
       "      <td>418</td>\n",
       "      <td>Low</td>\n",
       "    </tr>\n",
       "    <tr>\n",
       "      <th>3</th>\n",
       "      <td>DAVID-sim/m1596437/Labels/Video_001</td>\n",
       "      <td>v001_0270.png</td>\n",
       "      <td>DAVID-sim/m1596437/Labels/Video_001/v001_0270.png</td>\n",
       "      <td>2761</td>\n",
       "      <td>Medium</td>\n",
       "    </tr>\n",
       "    <tr>\n",
       "      <th>4</th>\n",
       "      <td>DAVID-sim/m1596437/Labels/Video_001</td>\n",
       "      <td>v001_0283.png</td>\n",
       "      <td>DAVID-sim/m1596437/Labels/Video_001/v001_0283.png</td>\n",
       "      <td>3224</td>\n",
       "      <td>Medium</td>\n",
       "    </tr>\n",
       "  </tbody>\n",
       "</table>\n",
       "</div>"
      ],
      "text/plain": [
       "                                folder          image  \\\n",
       "0  DAVID-sim/m1596437/Labels/Video_001  v001_0341.png   \n",
       "1  DAVID-sim/m1596437/Labels/Video_001  v001_0036.png   \n",
       "2  DAVID-sim/m1596437/Labels/Video_001  v001_0000.png   \n",
       "3  DAVID-sim/m1596437/Labels/Video_001  v001_0270.png   \n",
       "4  DAVID-sim/m1596437/Labels/Video_001  v001_0283.png   \n",
       "\n",
       "                                          image_path  pedestrian_pixels  \\\n",
       "0  DAVID-sim/m1596437/Labels/Video_001/v001_0341.png               3358   \n",
       "1  DAVID-sim/m1596437/Labels/Video_001/v001_0036.png                355   \n",
       "2  DAVID-sim/m1596437/Labels/Video_001/v001_0000.png                418   \n",
       "3  DAVID-sim/m1596437/Labels/Video_001/v001_0270.png               2761   \n",
       "4  DAVID-sim/m1596437/Labels/Video_001/v001_0283.png               3224   \n",
       "\n",
       "  risk_level  \n",
       "0     Medium  \n",
       "1        Low  \n",
       "2        Low  \n",
       "3     Medium  \n",
       "4     Medium  "
      ]
     },
     "execution_count": 60,
     "metadata": {},
     "output_type": "execute_result"
    }
   ],
   "source": [
    "df.head()"
   ]
  },
  {
   "cell_type": "code",
   "execution_count": 56,
   "id": "351b8a87-e10e-49f3-83fa-47e109266263",
   "metadata": {},
   "outputs": [
    {
     "data": {
      "image/png": "[encoded data removed]",
      "text/plain": [
       "<Figure size 1000x600 with 1 Axes>"
      ]
     },
     "metadata": {},
     "output_type": "display_data"
    }
   ],
   "source": [
    "plt.figure(figsize=(10, 6))\n",
    "sns.histplot(df, x=\"pedestrian_pixels\", hue=\"risk_level\", bins=30, kde=True)\n",
    "plt.xlabel(\"Pedestrian Pixel Count\")\n",
    "plt.ylabel(\"Frequency\")\n",
    "plt.title(\"Distribution of Pedestrian Pixels by Risk Level\")\n",
    "plt.show()"
   ]
  },
  {
   "cell_type": "code",
   "execution_count": 57,
   "id": "3d9d3f67-3b24-4fff-bcd0-449cb62278c3",
   "metadata": {},
   "outputs": [
    {
     "data": {
      "image/png": "[encoded data removed]",
      "text/plain": [
       "<Figure size 640x480 with 1 Axes>"
      ]
     },
     "metadata": {},
     "output_type": "display_data"
    }
   ],
   "source": [
    "sns.countplot(data=df, x=\"risk_level\")\n",
    "plt.title(\"Pedestrian Risk Levels\")\n",
    "plt.show()\n"
   ]
  },
  {
   "cell_type": "code",
   "execution_count": null,
   "id": "afb15cf5-ff90-4f86-8957-c23f0d628164",
   "metadata": {},
   "outputs": [],
   "source": []
  },
  {
   "cell_type": "code",
   "execution_count": null,
   "id": "93b0cb34-05c3-4245-9306-a1c650eca4b2",
   "metadata": {},
   "outputs": [],
   "source": []
  }
 ],
 "metadata": {
  "kernelspec": {
   "display_name": "Python 3 (ipykernel)",
   "language": "python",
   "name": "python3"
  },
  "language_info": {
   "codemirror_mode": {
    "name": "ipython",
    "version": 3
   },
   "file_extension": ".py",
   "mimetype": "text/x-python",
   "name": "python",
   "nbconvert_exporter": "python",
   "pygments_lexer": "ipython3",
   "version": "3.8.16"
  }
 },
 "nbformat": 4,
 "nbformat_minor": 5
}
