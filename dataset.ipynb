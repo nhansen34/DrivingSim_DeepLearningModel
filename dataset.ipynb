{
 "cells": [
  {
   "cell_type": "code",
   "execution_count": 7,
   "id": "01bfc82e-f332-4db7-800c-19e201f44557",
   "metadata": {},
   "outputs": [],
   "source": [
    "import torch\n",
    "from torch.utils.data import Dataset, DataLoader\n",
    "import pandas as pd\n",
    "import torchvision.transforms as transforms\n",
    "from PIL import Image\n",
    "import cv2\n",
    "\n",
    "class PedestrianDataset(Dataset):\n",
    "    def __init__(self, dataframe, transform=None):\n",
    "        self.dataframe = dataframe\n",
    "        self.transform = transform\n",
    "        self.label_mapping = {\"Low\": 0, \"Medium\": 1, \"High\": 2}\n",
    "\n",
    "    def __len__(self):\n",
    "        return len(self.dataframe)\n",
    "\n",
    "    def __getitem__(self, idx):\n",
    "        img_path = self.dataframe.iloc[idx][\"unlabeled_image_path\"]\n",
    "        label = self.label_mapping[self.dataframe.iloc[idx][\"risk_level\"]]\n",
    "\n",
    "        image = cv2.imread(img_path)\n",
    "        image = cv2.cvtColor(image, cv2.COLOR_BGR2RGB)\n",
    "        image = Image.fromarray(image)\n",
    "\n",
    "        if self.transform:\n",
    "            image = self.transform(image)\n",
    "\n",
    "        return image, torch.tensor(label)\n",
    "\n",
    "def load_datasets(csv_path, batch_size=32):\n",
    "    df = pd.read_csv(csv_path).sample(frac=1).reset_index(drop=True)\n",
    "    df = df.drop([\"labeled_image_path\", \"pedestrian_pixels\"], axis=1)\n",
    "    \n",
    "    train_df = df[:int(0.8 * len(df))]\n",
    "    val_df = df[int(0.8 * len(df)):int(0.9 * len(df))]\n",
    "    test_df = df[int(0.9 * len(df)):]\n",
    "\n",
    "    transform = transforms.Compose([\n",
    "        transforms.Resize((128, 128)),\n",
    "        transforms.ToTensor(),\n",
    "        transforms.Normalize(mean=[0.5, 0.5, 0.5], std=[0.5, 0.5, 0.5])\n",
    "    ])\n",
    "\n",
    "    train_dataset = PedestrianDataset(train_df, transform=transform)\n",
    "    val_dataset = PedestrianDataset(val_df, transform=transform)\n",
    "    test_dataset = PedestrianDataset(test_df, transform=transform)\n",
    "\n",
    "    return (\n",
    "        DataLoader(train_dataset, batch_size=batch_size, shuffle=True),\n",
    "        DataLoader(val_dataset, batch_size=batch_size, shuffle=False),\n",
    "        DataLoader(test_dataset, batch_size=batch_size, shuffle=False)\n",
    "    )"
   ]
  },
  {
   "cell_type": "code",
   "execution_count": 8,
   "id": "c4413a8a-e4b8-4655-a344-48a98f7a2652",
   "metadata": {},
   "outputs": [],
   "source": [
    "train_loader, val_loader, test_loader = load_datasets(\"pedestrian_risk_analysis.csv\")"
   ]
  },
  {
   "cell_type": "code",
   "execution_count": 9,
   "id": "766b4609-43e6-4c17-80cf-03d0a914a616",
   "metadata": {},
   "outputs": [],
   "source": [
    "import torch\n",
    "import torch.nn as nn"
   ]
  },
  {
   "cell_type": "code",
   "execution_count": 10,
   "id": "f2f982de-c56d-4f03-80e9-1b43269190c2",
   "metadata": {},
   "outputs": [],
   "source": [
    "class PedestrianCNN(nn.Module):\n",
    "    def __init__(self):\n",
    "        super(PedestrianCNN, self).__init__()\n",
    "        self.conv_layers = nn.Sequential(\n",
    "            nn.Conv2d(3, 32, kernel_size=3, stride=1, padding=1),\n",
    "            nn.ReLU(),\n",
    "            nn.MaxPool2d(kernel_size=2, stride=2),\n",
    "\n",
    "            nn.Conv2d(32, 64, kernel_size=3, stride=1, padding=1),\n",
    "            nn.ReLU(),\n",
    "            nn.MaxPool2d(kernel_size=2, stride=2),\n",
    "\n",
    "            nn.Conv2d(64, 128, kernel_size=3, stride=1, padding=1),\n",
    "            nn.ReLU(),\n",
    "            nn.MaxPool2d(kernel_size=2, stride=2)\n",
    "        )\n",
    "\n",
    "        self.fc_layers = nn.Sequential(\n",
    "            nn.Linear(128 * 16 * 16, 128),\n",
    "            nn.ReLU(),\n",
    "            nn.Dropout(0.5),\n",
    "            nn.Linear(128, 3)  \n",
    "        )\n",
    "\n",
    "    def forward(self, x):\n",
    "        x = self.conv_layers(x)\n",
    "        x = x.view(x.size(0), -1)\n",
    "        x = self.fc_layers(x)\n",
    "        return x\n",
    "\n",
    "def get_model(device):\n",
    "    model = PedestrianCNN().to(device)\n",
    "    return model"
   ]
  },
  {
   "cell_type": "code",
   "execution_count": 11,
   "id": "f09a2399-4880-44ef-8837-04968f88e2d2",
   "metadata": {},
   "outputs": [
    {
     "name": "stdout",
     "output_type": "stream",
     "text": [
      "cuda\n"
     ]
    }
   ],
   "source": [
    "device = torch.device(\"cuda\" if torch.cuda.is_available() else \"cpu\")\n",
    "print(device)"
   ]
  },
  {
   "cell_type": "code",
   "execution_count": 16,
   "id": "c8ad57f0-c6b2-4d1d-8fea-78ae7b1573f0",
   "metadata": {},
   "outputs": [
    {
     "name": "stdout",
     "output_type": "stream",
     "text": [
      "Epoch [1/10], Loss: 186.4320, Accuracy: 0.6951\n",
      "Epoch [1/10] - Loss: 0.0216 Val Loss: 0.5028\n",
      "Epoch [2/10], Loss: 112.0870, Accuracy: 0.8316\n",
      "Epoch [2/10] - Loss: 0.0130 Val Loss: 0.4321\n",
      "Epoch [3/10], Loss: 83.5350, Accuracy: 0.8782\n",
      "Epoch [3/10] - Loss: 0.0097 Val Loss: 0.2994\n",
      "Epoch [4/10], Loss: 66.7009, Accuracy: 0.8977\n",
      "Epoch [4/10] - Loss: 0.0077 Val Loss: 0.3367\n",
      "Epoch [5/10], Loss: 58.6261, Accuracy: 0.9152\n",
      "Epoch [5/10] - Loss: 0.0068 Val Loss: 0.2625\n",
      "Epoch [6/10], Loss: 51.6673, Accuracy: 0.9205\n",
      "Epoch [6/10] - Loss: 0.0060 Val Loss: 0.2751\n",
      "Epoch [7/10], Loss: 47.3195, Accuracy: 0.9276\n",
      "Epoch [7/10] - Loss: 0.0055 Val Loss: 0.2105\n",
      "Epoch [8/10], Loss: 43.5138, Accuracy: 0.9335\n",
      "Epoch [8/10] - Loss: 0.0051 Val Loss: 0.2623\n",
      "Epoch [9/10], Loss: 39.0884, Accuracy: 0.9419\n",
      "Epoch [9/10] - Loss: 0.0045 Val Loss: 0.2436\n",
      "Epoch [10/10], Loss: 34.7891, Accuracy: 0.9460\n",
      "Epoch [10/10] - Loss: 0.0040 Val Loss: 0.2811\n"
     ]
    }
   ],
   "source": [
    "import torch\n",
    "import torch.optim as optim\n",
    "device = torch.device(\"cuda\" if torch.cuda.is_available() else \"cpu\")\n",
    "model = PedestrianCNN().to(device)\n",
    "loss_fn = nn.CrossEntropyLoss()\n",
    "optimizer = optim.Adam(model.parameters(), lr=0.001)\n",
    "_loss_plot_test=[]\n",
    "\n",
    "num_epochs = 10\n",
    "for epoch in range(num_epochs):\n",
    "    model.train()\n",
    "    total_loss, correct = 0, 0\n",
    "\n",
    "    for images, labels in train_loader:\n",
    "        images, labels = images.to(device), labels.to(device)\n",
    "\n",
    "        optimizer.zero_grad()\n",
    "        outputs = model(images)\n",
    "        loss = loss_fn(outputs, labels)\n",
    "        loss.backward()\n",
    "        optimizer.step()\n",
    "\n",
    "        total_loss += loss.item()\n",
    "        correct += (outputs.argmax(1) == labels).sum().item()\n",
    "    \n",
    "    avg_loss = total_loss/ len(train_loader.dataset)\n",
    "    train_accuracy = correct / len(train_loader.dataset)\n",
    "    print(f\"Epoch [{epoch+1}/{num_epochs}], Loss: {total_loss:.4f}, Accuracy: {train_accuracy:.4f}\")\n",
    "    with torch.no_grad():\n",
    "        prediction, truth = zip(*[(model(x.to(device)), y.to(device)) for x, y in val_loader])\n",
    "        prediction = torch.cat(prediction, dim=0)\n",
    "        truth = torch.cat(truth, dim=0)\n",
    "        val_loss = loss_fn(prediction, truth)\n",
    "        _loss_plot_test.append(val_loss.item())\n",
    "        \n",
    "    print(f\"Epoch [{epoch+1}/{num_epochs}] - Loss: {avg_loss:.4f} Val Loss: {val_loss:.4f}\")"
   ]
  },
  {
   "cell_type": "code",
   "execution_count": null,
   "id": "79922db8-2746-422f-957e-8bbb77e10d71",
   "metadata": {},
   "outputs": [],
   "source": []
  }
 ],
 "metadata": {
  "kernelspec": {
   "display_name": "Python 3 (ipykernel)",
   "language": "python",
   "name": "python3"
  },
  "language_info": {
   "codemirror_mode": {
    "name": "ipython",
    "version": 3
   },
   "file_extension": ".py",
   "mimetype": "text/x-python",
   "name": "python",
   "nbconvert_exporter": "python",
   "pygments_lexer": "ipython3",
   "version": "3.8.16"
  }
 },
 "nbformat": 4,
 "nbformat_minor": 5
}
