{
 "cells": [
  {
   "cell_type": "code",
   "execution_count": 1,
   "id": "01bfc82e-f332-4db7-800c-19e201f44557",
   "metadata": {},
   "outputs": [],
   "source": [
    "import torch\n",
    "from torch.utils.data import Dataset, DataLoader\n",
    "import pandas as pd\n",
    "import torchvision.transforms as transforms\n",
    "from PIL import Image\n",
    "import cv2\n",
    "\n",
    "class PedestrianDataset(Dataset):\n",
    "    def __init__(self, dataframe, transform=None):\n",
    "        self.dataframe = dataframe\n",
    "        self.transform = transform\n",
    "        self.label_mapping = {\"Low\": 0, \"Medium\": 1, \"High\": 2}\n",
    "\n",
    "    def __len__(self):\n",
    "        return len(self.dataframe)\n",
    "\n",
    "    def __getitem__(self, idx):\n",
    "        img_path = self.dataframe.iloc[idx][\"unlabeled_image_path\"]\n",
    "        label = self.label_mapping[self.dataframe.iloc[idx][\"risk_level\"]]\n",
    "\n",
    "        image = cv2.imread(img_path)\n",
    "        image = cv2.cvtColor(image, cv2.COLOR_BGR2RGB)\n",
    "        image = Image.fromarray(image)\n",
    "\n",
    "        if self.transform:\n",
    "            image = self.transform(image)\n",
    "\n",
    "        return image, torch.tensor(label)\n",
    "\n",
    "def load_datasets(csv_path, batch_size=32):\n",
    "    df = pd.read_csv(csv_path).sample(frac=1).reset_index(drop=True)\n",
    "    df = df.drop([\"labeled_image_path\", \"pedestrian_pixels\"], axis=1)\n",
    "    \n",
    "    train_df = df[:int(0.8 * len(df))]\n",
    "    val_df = df[int(0.8 * len(df)):int(0.9 * len(df))]\n",
    "    test_df = df[int(0.9 * len(df)):]\n",
    "\n",
    "    transform = transforms.Compose([\n",
    "        transforms.Resize((128, 128)),\n",
    "        transforms.ToTensor(),\n",
    "        transforms.Normalize(mean=[0.5, 0.5, 0.5], std=[0.5, 0.5, 0.5])\n",
    "    ])\n",
    "\n",
    "    train_dataset = PedestrianDataset(train_df, transform=transform)\n",
    "    val_dataset = PedestrianDataset(val_df, transform=transform)\n",
    "    test_dataset = PedestrianDataset(test_df, transform=transform)\n",
    "\n",
    "    return (\n",
    "        DataLoader(train_dataset, batch_size=batch_size, shuffle=True),\n",
    "        DataLoader(val_dataset, batch_size=batch_size, shuffle=False),\n",
    "        DataLoader(test_dataset, batch_size=batch_size, shuffle=False)\n",
    "    )"
   ]
  },
  {
   "cell_type": "code",
   "execution_count": 2,
   "id": "c4413a8a-e4b8-4655-a344-48a98f7a2652",
   "metadata": {},
   "outputs": [],
   "source": [
    "train_loader, val_loader, test_loader = load_datasets(\"pedestrian_risk_analysis.csv\")"
   ]
  },
  {
   "cell_type": "code",
   "execution_count": 3,
   "id": "766b4609-43e6-4c17-80cf-03d0a914a616",
   "metadata": {},
   "outputs": [],
   "source": [
    "import torch\n",
    "import torch.nn as nn"
   ]
  },
  {
   "cell_type": "code",
   "execution_count": 4,
   "id": "f2f982de-c56d-4f03-80e9-1b43269190c2",
   "metadata": {},
   "outputs": [],
   "source": [
    "class PedestrianCNN(nn.Module):\n",
    "    def __init__(self):\n",
    "        super(PedestrianCNN, self).__init__()\n",
    "        self.conv_layers = nn.Sequential(\n",
    "            nn.Conv2d(3, 32, kernel_size=3, stride=1, padding=1),\n",
    "            nn.ReLU(),\n",
    "            nn.MaxPool2d(kernel_size=2, stride=2),\n",
    "\n",
    "            nn.Conv2d(32, 64, kernel_size=3, stride=1, padding=1),\n",
    "            nn.ReLU(),\n",
    "            nn.MaxPool2d(kernel_size=2, stride=2),\n",
    "\n",
    "            nn.Conv2d(64, 128, kernel_size=3, stride=1, padding=1),\n",
    "            nn.ReLU(),\n",
    "            nn.MaxPool2d(kernel_size=2, stride=2)\n",
    "        )\n",
    "\n",
    "        self.fc_layers = nn.Sequential(\n",
    "            nn.Linear(128 * 16 * 16, 128),\n",
    "            nn.ReLU(),\n",
    "            nn.Dropout(0.5),\n",
    "            nn.Linear(128, 3)  \n",
    "        )\n",
    "\n",
    "    def forward(self, x):\n",
    "        x = self.conv_layers(x)\n",
    "        x = x.view(x.size(0), -1)\n",
    "        x = self.fc_layers(x)\n",
    "        return x\n",
    "\n",
    "def get_model(device):\n",
    "    model = PedestrianCNN().to(device)\n",
    "    return model"
   ]
  },
  {
   "cell_type": "code",
   "execution_count": 5,
   "id": "f09a2399-4880-44ef-8837-04968f88e2d2",
   "metadata": {},
   "outputs": [
    {
     "name": "stdout",
     "output_type": "stream",
     "text": [
      "cuda\n"
     ]
    }
   ],
   "source": [
    "device = torch.device(\"cuda\" if torch.cuda.is_available() else \"cpu\")\n",
    "print(device)"
   ]
  },
  {
   "cell_type": "code",
   "execution_count": 7,
   "id": "ebd1775c-7cfb-4d1d-9eb6-4cff91832696",
   "metadata": {},
   "outputs": [
    {
     "name": "stdout",
     "output_type": "stream",
     "text": [
      "Epoch [1/10] | Train Loss: 0.7205, Train Acc: 0.6657 | Val Loss: 0.5166, Val Acc: 0.7660\n",
      "Epoch [2/10] | Train Loss: 0.4634, Train Acc: 0.8047 | Val Loss: 0.3040, Val Acc: 0.8914\n",
      "Epoch [3/10] | Train Loss: 0.3581, Train Acc: 0.8535 | Val Loss: 0.2645, Val Acc: 0.8979\n",
      "Epoch [4/10] | Train Loss: 0.3010, Train Acc: 0.8754 | Val Loss: 0.2307, Val Acc: 0.9136\n",
      "Epoch [5/10] | Train Loss: 0.2640, Train Acc: 0.8927 | Val Loss: 0.2413, Val Acc: 0.9099\n",
      "Epoch [6/10] | Train Loss: 0.2328, Train Acc: 0.8986 | Val Loss: 0.1991, Val Acc: 0.9294\n",
      "Epoch [7/10] | Train Loss: 0.2152, Train Acc: 0.9091 | Val Loss: 0.1871, Val Acc: 0.9257\n",
      "Epoch [8/10] | Train Loss: 0.2004, Train Acc: 0.9168 | Val Loss: 0.1856, Val Acc: 0.9090\n",
      "Epoch [9/10] | Train Loss: 0.1853, Train Acc: 0.9204 | Val Loss: 0.1944, Val Acc: 0.9183\n",
      "Epoch [10/10] | Train Loss: 0.1758, Train Acc: 0.9274 | Val Loss: 0.1827, Val Acc: 0.9285\n"
     ]
    }
   ],
   "source": [
    "import torch\n",
    "import torch.optim as optim\n",
    "\n",
    "device = torch.device(\"cuda\" if torch.cuda.is_available() else \"cpu\")\n",
    "\n",
    "model = PedestrianCNN().to(device)\n",
    "loss_fn = nn.CrossEntropyLoss()\n",
    "optimizer = optim.Adam(model.parameters(), lr=0.001)\n",
    "\n",
    "_loss_plot_test = []\n",
    "num_epochs = 10\n",
    "\n",
    "for epoch in range(num_epochs):\n",
    "    model.train()\n",
    "    total_loss, correct, total_samples = 0, 0, 0\n",
    "\n",
    "    for images, labels in train_loader:\n",
    "        images, labels = images.to(device), labels.to(device)\n",
    "\n",
    "        optimizer.zero_grad()\n",
    "        outputs = model(images)\n",
    "        loss = loss_fn(outputs, labels)\n",
    "        loss.backward()\n",
    "        optimizer.step()\n",
    "\n",
    "        total_loss += loss.item()\n",
    "        correct += (outputs.argmax(dim=1) == labels).sum().item()\n",
    "        total_samples += labels.size(0)\n",
    "\n",
    "    avg_train_loss = total_loss / len(train_loader)\n",
    "    train_accuracy = correct / total_samples\n",
    "\n",
    "    model.eval()  \n",
    "    val_loss, val_correct, val_samples = 0, 0, 0\n",
    "\n",
    "    with torch.no_grad():\n",
    "        for images, labels in val_loader:\n",
    "            images, labels = images.to(device), labels.to(device)\n",
    "            outputs = model(images)\n",
    "            loss = loss_fn(outputs, labels)\n",
    "            val_loss += loss.item()\n",
    "            val_correct += (outputs.argmax(dim=1) == labels).sum().item()\n",
    "            val_samples += labels.size(0)\n",
    "\n",
    "    avg_val_loss = val_loss / len(val_loader)\n",
    "    val_accuracy = val_correct / val_samples\n",
    "    _loss_plot_test.append(avg_val_loss)\n",
    "\n",
    "    print(f\"Epoch [{epoch+1}/{num_epochs}] | \"\n",
    "          f\"Train Loss: {avg_train_loss:.4f}, Train Acc: {train_accuracy:.4f} | \"\n",
    "          f\"Val Loss: {avg_val_loss:.4f}, Val Acc: {val_accuracy:.4f}\")"
   ]
  },
  {
   "cell_type": "code",
   "execution_count": 9,
   "id": "79922db8-2746-422f-957e-8bbb77e10d71",
   "metadata": {},
   "outputs": [],
   "source": [
    "#save \n",
    "torch.save({\n",
    "    'epoch': num_epochs,\n",
    "    'model_state_dict': model.state_dict(),\n",
    "    'optimizer_state_dict': optimizer.state_dict(),\n",
    "    'loss': loss,\n",
    "}, \"checkpoint.pth\")"
   ]
  },
  {
   "cell_type": "code",
   "execution_count": null,
   "id": "7d6ec764-f14a-45fa-9d0c-9455044f4f9d",
   "metadata": {},
   "outputs": [],
   "source": [
    "# resume training ? (double check this)\n",
    "checkpoint = torch.load(\"checkpoint.pth\")\n",
    "model.load_state_dict(checkpoint['model_state_dict'])\n",
    "optimizer.load_state_dict(checkpoint['optimizer_state_dict'])\n",
    "epoch = checkpoint['epoch']\n",
    "loss = checkpoint['loss']"
   ]
  }
 ],
 "metadata": {
  "kernelspec": {
   "display_name": "Python 3 (ipykernel)",
   "language": "python",
   "name": "python3"
  },
  "language_info": {
   "codemirror_mode": {
    "name": "ipython",
    "version": 3
   },
   "file_extension": ".py",
   "mimetype": "text/x-python",
   "name": "python",
   "nbconvert_exporter": "python",
   "pygments_lexer": "ipython3",
   "version": "3.8.16"
  }
 },
 "nbformat": 4,
 "nbformat_minor": 5
}
